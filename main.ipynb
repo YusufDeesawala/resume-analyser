{
 "cells": [
  {
   "cell_type": "markdown",
   "metadata": {},
   "source": [
    "Importing the dependencies"
   ]
  },
  {
   "cell_type": "code",
   "execution_count": 198,
   "metadata": {},
   "outputs": [],
   "source": [
    "import pandas as pd\n",
    "import numpy as np"
   ]
  },
  {
   "cell_type": "markdown",
   "metadata": {},
   "source": [
    "Importing the data"
   ]
  },
  {
   "cell_type": "code",
   "execution_count": 199,
   "metadata": {},
   "outputs": [],
   "source": [
    "resume_data = pd.read_csv('Datasets/Expanded_Resume_Screening.csv')\n"
   ]
  },
  {
   "cell_type": "code",
   "execution_count": 200,
   "metadata": {},
   "outputs": [
    {
     "data": {
      "text/html": [
       "<div>\n",
       "<style scoped>\n",
       "    .dataframe tbody tr th:only-of-type {\n",
       "        vertical-align: middle;\n",
       "    }\n",
       "\n",
       "    .dataframe tbody tr th {\n",
       "        vertical-align: top;\n",
       "    }\n",
       "\n",
       "    .dataframe thead th {\n",
       "        text-align: right;\n",
       "    }\n",
       "</style>\n",
       "<table border=\"1\" class=\"dataframe\">\n",
       "  <thead>\n",
       "    <tr style=\"text-align: right;\">\n",
       "      <th></th>\n",
       "      <th>Resume_ID</th>\n",
       "      <th>Name</th>\n",
       "      <th>Skills</th>\n",
       "      <th>Experience (Years)</th>\n",
       "      <th>Education</th>\n",
       "      <th>Certifications</th>\n",
       "      <th>Job Role</th>\n",
       "      <th>Recruiter Decision</th>\n",
       "      <th>Salary Expectation ($)</th>\n",
       "      <th>Projects Count</th>\n",
       "      <th>AI Score (0-100)</th>\n",
       "    </tr>\n",
       "  </thead>\n",
       "  <tbody>\n",
       "    <tr>\n",
       "      <th>0</th>\n",
       "      <td>1</td>\n",
       "      <td>Ashley Ali</td>\n",
       "      <td>TensorFlow, NLP, Pytorch</td>\n",
       "      <td>10</td>\n",
       "      <td>B.Sc</td>\n",
       "      <td>NaN</td>\n",
       "      <td>AI Researcher</td>\n",
       "      <td>Hire</td>\n",
       "      <td>104895</td>\n",
       "      <td>8</td>\n",
       "      <td>100</td>\n",
       "    </tr>\n",
       "    <tr>\n",
       "      <th>1</th>\n",
       "      <td>2</td>\n",
       "      <td>Wesley Roman</td>\n",
       "      <td>Deep Learning, Machine Learning, Python, SQL</td>\n",
       "      <td>10</td>\n",
       "      <td>MBA</td>\n",
       "      <td>Google ML</td>\n",
       "      <td>Data Scientist</td>\n",
       "      <td>Hire</td>\n",
       "      <td>113002</td>\n",
       "      <td>1</td>\n",
       "      <td>100</td>\n",
       "    </tr>\n",
       "    <tr>\n",
       "      <th>2</th>\n",
       "      <td>3</td>\n",
       "      <td>Corey Sanchez</td>\n",
       "      <td>Ethical Hacking, Cybersecurity, Linux</td>\n",
       "      <td>1</td>\n",
       "      <td>MBA</td>\n",
       "      <td>Deep Learning Specialization</td>\n",
       "      <td>Cybersecurity Analyst</td>\n",
       "      <td>Hire</td>\n",
       "      <td>71766</td>\n",
       "      <td>7</td>\n",
       "      <td>70</td>\n",
       "    </tr>\n",
       "    <tr>\n",
       "      <th>3</th>\n",
       "      <td>4</td>\n",
       "      <td>Elizabeth Carney</td>\n",
       "      <td>Python, Pytorch, TensorFlow</td>\n",
       "      <td>7</td>\n",
       "      <td>B.Tech</td>\n",
       "      <td>AWS Certified</td>\n",
       "      <td>AI Researcher</td>\n",
       "      <td>Hire</td>\n",
       "      <td>46848</td>\n",
       "      <td>0</td>\n",
       "      <td>95</td>\n",
       "    </tr>\n",
       "    <tr>\n",
       "      <th>4</th>\n",
       "      <td>5</td>\n",
       "      <td>Julie Hill</td>\n",
       "      <td>SQL, React, Java</td>\n",
       "      <td>4</td>\n",
       "      <td>PhD</td>\n",
       "      <td>NaN</td>\n",
       "      <td>Software Engineer</td>\n",
       "      <td>Hire</td>\n",
       "      <td>87441</td>\n",
       "      <td>9</td>\n",
       "      <td>100</td>\n",
       "    </tr>\n",
       "  </tbody>\n",
       "</table>\n",
       "</div>"
      ],
      "text/plain": [
       "   Resume_ID              Name                                        Skills  \\\n",
       "0          1        Ashley Ali                      TensorFlow, NLP, Pytorch   \n",
       "1          2      Wesley Roman  Deep Learning, Machine Learning, Python, SQL   \n",
       "2          3     Corey Sanchez         Ethical Hacking, Cybersecurity, Linux   \n",
       "3          4  Elizabeth Carney                   Python, Pytorch, TensorFlow   \n",
       "4          5        Julie Hill                              SQL, React, Java   \n",
       "\n",
       "   Experience (Years) Education                Certifications  \\\n",
       "0                  10      B.Sc                           NaN   \n",
       "1                  10       MBA                     Google ML   \n",
       "2                   1       MBA  Deep Learning Specialization   \n",
       "3                   7    B.Tech                 AWS Certified   \n",
       "4                   4       PhD                           NaN   \n",
       "\n",
       "                Job Role Recruiter Decision  Salary Expectation ($)  \\\n",
       "0          AI Researcher               Hire                  104895   \n",
       "1         Data Scientist               Hire                  113002   \n",
       "2  Cybersecurity Analyst               Hire                   71766   \n",
       "3          AI Researcher               Hire                   46848   \n",
       "4      Software Engineer               Hire                   87441   \n",
       "\n",
       "   Projects Count  AI Score (0-100)  \n",
       "0               8               100  \n",
       "1               1               100  \n",
       "2               7                70  \n",
       "3               0                95  \n",
       "4               9               100  "
      ]
     },
     "execution_count": 200,
     "metadata": {},
     "output_type": "execute_result"
    }
   ],
   "source": [
    "resume_data.head()"
   ]
  },
  {
   "cell_type": "code",
   "execution_count": 201,
   "metadata": {},
   "outputs": [
    {
     "data": {
      "text/plain": [
       "Resume_ID                     0\n",
       "Name                          0\n",
       "Skills                        0\n",
       "Experience (Years)            0\n",
       "Education                     0\n",
       "Certifications            14080\n",
       "Job Role                      0\n",
       "Recruiter Decision            0\n",
       "Salary Expectation ($)        0\n",
       "Projects Count                0\n",
       "AI Score (0-100)              0\n",
       "dtype: int64"
      ]
     },
     "execution_count": 201,
     "metadata": {},
     "output_type": "execute_result"
    }
   ],
   "source": [
    "resume_data.isnull().sum()"
   ]
  },
  {
   "cell_type": "code",
   "execution_count": 202,
   "metadata": {},
   "outputs": [
    {
     "name": "stdout",
     "output_type": "stream",
     "text": [
      "<class 'pandas.core.frame.DataFrame'>\n",
      "RangeIndex: 51000 entries, 0 to 50999\n",
      "Data columns (total 11 columns):\n",
      " #   Column                  Non-Null Count  Dtype \n",
      "---  ------                  --------------  ----- \n",
      " 0   Resume_ID               51000 non-null  int64 \n",
      " 1   Name                    51000 non-null  object\n",
      " 2   Skills                  51000 non-null  object\n",
      " 3   Experience (Years)      51000 non-null  int64 \n",
      " 4   Education               51000 non-null  object\n",
      " 5   Certifications          36920 non-null  object\n",
      " 6   Job Role                51000 non-null  object\n",
      " 7   Recruiter Decision      51000 non-null  object\n",
      " 8   Salary Expectation ($)  51000 non-null  int64 \n",
      " 9   Projects Count          51000 non-null  int64 \n",
      " 10  AI Score (0-100)        51000 non-null  int64 \n",
      "dtypes: int64(5), object(6)\n",
      "memory usage: 4.3+ MB\n"
     ]
    }
   ],
   "source": [
    "resume_data.info()"
   ]
  },
  {
   "cell_type": "code",
   "execution_count": 203,
   "metadata": {},
   "outputs": [
    {
     "data": {
      "text/plain": [
       "Certifications\n",
       "Deep Learning Specialization    13046\n",
       "AWS Certified                   12453\n",
       "Google ML                       11421\n",
       "Name: count, dtype: int64"
      ]
     },
     "execution_count": 203,
     "metadata": {},
     "output_type": "execute_result"
    }
   ],
   "source": [
    "resume_data['Certifications'].value_counts()"
   ]
  },
  {
   "cell_type": "code",
   "execution_count": 204,
   "metadata": {},
   "outputs": [
    {
     "name": "stderr",
     "output_type": "stream",
     "text": [
      "/tmp/ipykernel_37951/1681698473.py:1: FutureWarning: A value is trying to be set on a copy of a DataFrame or Series through chained assignment using an inplace method.\n",
      "The behavior will change in pandas 3.0. This inplace method will never work because the intermediate object on which we are setting values always behaves as a copy.\n",
      "\n",
      "For example, when doing 'df[col].method(value, inplace=True)', try using 'df.method({col: value}, inplace=True)' or df[col] = df[col].method(value) instead, to perform the operation inplace on the original object.\n",
      "\n",
      "\n",
      "  resume_data['Certifications'].fillna('None', inplace=True)\n"
     ]
    }
   ],
   "source": [
    "resume_data['Certifications'].fillna('None', inplace=True)"
   ]
  },
  {
   "cell_type": "code",
   "execution_count": 205,
   "metadata": {},
   "outputs": [
    {
     "data": {
      "text/html": [
       "<div>\n",
       "<style scoped>\n",
       "    .dataframe tbody tr th:only-of-type {\n",
       "        vertical-align: middle;\n",
       "    }\n",
       "\n",
       "    .dataframe tbody tr th {\n",
       "        vertical-align: top;\n",
       "    }\n",
       "\n",
       "    .dataframe thead th {\n",
       "        text-align: right;\n",
       "    }\n",
       "</style>\n",
       "<table border=\"1\" class=\"dataframe\">\n",
       "  <thead>\n",
       "    <tr style=\"text-align: right;\">\n",
       "      <th></th>\n",
       "      <th>Resume_ID</th>\n",
       "      <th>Name</th>\n",
       "      <th>Skills</th>\n",
       "      <th>Experience (Years)</th>\n",
       "      <th>Education</th>\n",
       "      <th>Certifications</th>\n",
       "      <th>Job Role</th>\n",
       "      <th>Recruiter Decision</th>\n",
       "      <th>Salary Expectation ($)</th>\n",
       "      <th>Projects Count</th>\n",
       "      <th>AI Score (0-100)</th>\n",
       "    </tr>\n",
       "  </thead>\n",
       "  <tbody>\n",
       "    <tr>\n",
       "      <th>0</th>\n",
       "      <td>1</td>\n",
       "      <td>Ashley Ali</td>\n",
       "      <td>TensorFlow, NLP, Pytorch</td>\n",
       "      <td>10</td>\n",
       "      <td>B.Sc</td>\n",
       "      <td>None</td>\n",
       "      <td>AI Researcher</td>\n",
       "      <td>Hire</td>\n",
       "      <td>104895</td>\n",
       "      <td>8</td>\n",
       "      <td>100</td>\n",
       "    </tr>\n",
       "    <tr>\n",
       "      <th>1</th>\n",
       "      <td>2</td>\n",
       "      <td>Wesley Roman</td>\n",
       "      <td>Deep Learning, Machine Learning, Python, SQL</td>\n",
       "      <td>10</td>\n",
       "      <td>MBA</td>\n",
       "      <td>Google ML</td>\n",
       "      <td>Data Scientist</td>\n",
       "      <td>Hire</td>\n",
       "      <td>113002</td>\n",
       "      <td>1</td>\n",
       "      <td>100</td>\n",
       "    </tr>\n",
       "    <tr>\n",
       "      <th>2</th>\n",
       "      <td>3</td>\n",
       "      <td>Corey Sanchez</td>\n",
       "      <td>Ethical Hacking, Cybersecurity, Linux</td>\n",
       "      <td>1</td>\n",
       "      <td>MBA</td>\n",
       "      <td>Deep Learning Specialization</td>\n",
       "      <td>Cybersecurity Analyst</td>\n",
       "      <td>Hire</td>\n",
       "      <td>71766</td>\n",
       "      <td>7</td>\n",
       "      <td>70</td>\n",
       "    </tr>\n",
       "    <tr>\n",
       "      <th>3</th>\n",
       "      <td>4</td>\n",
       "      <td>Elizabeth Carney</td>\n",
       "      <td>Python, Pytorch, TensorFlow</td>\n",
       "      <td>7</td>\n",
       "      <td>B.Tech</td>\n",
       "      <td>AWS Certified</td>\n",
       "      <td>AI Researcher</td>\n",
       "      <td>Hire</td>\n",
       "      <td>46848</td>\n",
       "      <td>0</td>\n",
       "      <td>95</td>\n",
       "    </tr>\n",
       "    <tr>\n",
       "      <th>4</th>\n",
       "      <td>5</td>\n",
       "      <td>Julie Hill</td>\n",
       "      <td>SQL, React, Java</td>\n",
       "      <td>4</td>\n",
       "      <td>PhD</td>\n",
       "      <td>None</td>\n",
       "      <td>Software Engineer</td>\n",
       "      <td>Hire</td>\n",
       "      <td>87441</td>\n",
       "      <td>9</td>\n",
       "      <td>100</td>\n",
       "    </tr>\n",
       "    <tr>\n",
       "      <th>...</th>\n",
       "      <td>...</td>\n",
       "      <td>...</td>\n",
       "      <td>...</td>\n",
       "      <td>...</td>\n",
       "      <td>...</td>\n",
       "      <td>...</td>\n",
       "      <td>...</td>\n",
       "      <td>...</td>\n",
       "      <td>...</td>\n",
       "      <td>...</td>\n",
       "      <td>...</td>\n",
       "    </tr>\n",
       "    <tr>\n",
       "      <th>50995</th>\n",
       "      <td>50996</td>\n",
       "      <td>Candidate_50996</td>\n",
       "      <td>NLP, TensorFlow, Python, Pytorch</td>\n",
       "      <td>27</td>\n",
       "      <td>B.Sc</td>\n",
       "      <td>AWS Certified</td>\n",
       "      <td>Cybersecurity Analyst</td>\n",
       "      <td>Hire</td>\n",
       "      <td>76516</td>\n",
       "      <td>19</td>\n",
       "      <td>76</td>\n",
       "    </tr>\n",
       "    <tr>\n",
       "      <th>50996</th>\n",
       "      <td>50997</td>\n",
       "      <td>Candidate_50997</td>\n",
       "      <td>React, SQL, C++</td>\n",
       "      <td>17</td>\n",
       "      <td>MBA</td>\n",
       "      <td>None</td>\n",
       "      <td>Cybersecurity Analyst</td>\n",
       "      <td>Reject</td>\n",
       "      <td>41356</td>\n",
       "      <td>10</td>\n",
       "      <td>7</td>\n",
       "    </tr>\n",
       "    <tr>\n",
       "      <th>50997</th>\n",
       "      <td>50998</td>\n",
       "      <td>Candidate_50998</td>\n",
       "      <td>Pytorch, NLP</td>\n",
       "      <td>40</td>\n",
       "      <td>B.Sc</td>\n",
       "      <td>Google ML</td>\n",
       "      <td>AI Researcher</td>\n",
       "      <td>Reject</td>\n",
       "      <td>191980</td>\n",
       "      <td>5</td>\n",
       "      <td>57</td>\n",
       "    </tr>\n",
       "    <tr>\n",
       "      <th>50998</th>\n",
       "      <td>50999</td>\n",
       "      <td>Candidate_50999</td>\n",
       "      <td>Python, Pytorch, TensorFlow, NLP</td>\n",
       "      <td>4</td>\n",
       "      <td>MBA</td>\n",
       "      <td>None</td>\n",
       "      <td>Data Scientist</td>\n",
       "      <td>Reject</td>\n",
       "      <td>79574</td>\n",
       "      <td>3</td>\n",
       "      <td>37</td>\n",
       "    </tr>\n",
       "    <tr>\n",
       "      <th>50999</th>\n",
       "      <td>51000</td>\n",
       "      <td>Candidate_51000</td>\n",
       "      <td>Ethical Hacking, Networking, Linux</td>\n",
       "      <td>14</td>\n",
       "      <td>B.Sc</td>\n",
       "      <td>Deep Learning Specialization</td>\n",
       "      <td>Cybersecurity Analyst</td>\n",
       "      <td>Hire</td>\n",
       "      <td>110224</td>\n",
       "      <td>10</td>\n",
       "      <td>73</td>\n",
       "    </tr>\n",
       "  </tbody>\n",
       "</table>\n",
       "<p>51000 rows × 11 columns</p>\n",
       "</div>"
      ],
      "text/plain": [
       "       Resume_ID              Name  \\\n",
       "0              1        Ashley Ali   \n",
       "1              2      Wesley Roman   \n",
       "2              3     Corey Sanchez   \n",
       "3              4  Elizabeth Carney   \n",
       "4              5        Julie Hill   \n",
       "...          ...               ...   \n",
       "50995      50996   Candidate_50996   \n",
       "50996      50997   Candidate_50997   \n",
       "50997      50998   Candidate_50998   \n",
       "50998      50999   Candidate_50999   \n",
       "50999      51000   Candidate_51000   \n",
       "\n",
       "                                             Skills  Experience (Years)  \\\n",
       "0                          TensorFlow, NLP, Pytorch                  10   \n",
       "1      Deep Learning, Machine Learning, Python, SQL                  10   \n",
       "2             Ethical Hacking, Cybersecurity, Linux                   1   \n",
       "3                       Python, Pytorch, TensorFlow                   7   \n",
       "4                                  SQL, React, Java                   4   \n",
       "...                                             ...                 ...   \n",
       "50995              NLP, TensorFlow, Python, Pytorch                  27   \n",
       "50996                               React, SQL, C++                  17   \n",
       "50997                                  Pytorch, NLP                  40   \n",
       "50998              Python, Pytorch, TensorFlow, NLP                   4   \n",
       "50999            Ethical Hacking, Networking, Linux                  14   \n",
       "\n",
       "      Education                Certifications               Job Role  \\\n",
       "0          B.Sc                          None          AI Researcher   \n",
       "1           MBA                     Google ML         Data Scientist   \n",
       "2           MBA  Deep Learning Specialization  Cybersecurity Analyst   \n",
       "3        B.Tech                 AWS Certified          AI Researcher   \n",
       "4           PhD                          None      Software Engineer   \n",
       "...         ...                           ...                    ...   \n",
       "50995      B.Sc                 AWS Certified  Cybersecurity Analyst   \n",
       "50996       MBA                          None  Cybersecurity Analyst   \n",
       "50997      B.Sc                     Google ML          AI Researcher   \n",
       "50998       MBA                          None         Data Scientist   \n",
       "50999      B.Sc  Deep Learning Specialization  Cybersecurity Analyst   \n",
       "\n",
       "      Recruiter Decision  Salary Expectation ($)  Projects Count  \\\n",
       "0                   Hire                  104895               8   \n",
       "1                   Hire                  113002               1   \n",
       "2                   Hire                   71766               7   \n",
       "3                   Hire                   46848               0   \n",
       "4                   Hire                   87441               9   \n",
       "...                  ...                     ...             ...   \n",
       "50995               Hire                   76516              19   \n",
       "50996             Reject                   41356              10   \n",
       "50997             Reject                  191980               5   \n",
       "50998             Reject                   79574               3   \n",
       "50999               Hire                  110224              10   \n",
       "\n",
       "       AI Score (0-100)  \n",
       "0                   100  \n",
       "1                   100  \n",
       "2                    70  \n",
       "3                    95  \n",
       "4                   100  \n",
       "...                 ...  \n",
       "50995                76  \n",
       "50996                 7  \n",
       "50997                57  \n",
       "50998                37  \n",
       "50999                73  \n",
       "\n",
       "[51000 rows x 11 columns]"
      ]
     },
     "execution_count": 205,
     "metadata": {},
     "output_type": "execute_result"
    }
   ],
   "source": [
    "resume_data"
   ]
  },
  {
   "cell_type": "code",
   "execution_count": 206,
   "metadata": {},
   "outputs": [
    {
     "data": {
      "text/plain": [
       "Resume_ID                 0\n",
       "Name                      0\n",
       "Skills                    0\n",
       "Experience (Years)        0\n",
       "Education                 0\n",
       "Certifications            0\n",
       "Job Role                  0\n",
       "Recruiter Decision        0\n",
       "Salary Expectation ($)    0\n",
       "Projects Count            0\n",
       "AI Score (0-100)          0\n",
       "dtype: int64"
      ]
     },
     "execution_count": 206,
     "metadata": {},
     "output_type": "execute_result"
    }
   ],
   "source": [
    "resume_data.isnull().sum()"
   ]
  },
  {
   "cell_type": "code",
   "execution_count": 207,
   "metadata": {},
   "outputs": [],
   "source": [
    "# Dropping the uneceassary columns\n",
    "\n",
    "resume_data.drop(['Name', 'Resume_ID'], axis=1, inplace=True)"
   ]
  },
  {
   "cell_type": "code",
   "execution_count": 208,
   "metadata": {},
   "outputs": [
    {
     "data": {
      "text/html": [
       "<div>\n",
       "<style scoped>\n",
       "    .dataframe tbody tr th:only-of-type {\n",
       "        vertical-align: middle;\n",
       "    }\n",
       "\n",
       "    .dataframe tbody tr th {\n",
       "        vertical-align: top;\n",
       "    }\n",
       "\n",
       "    .dataframe thead th {\n",
       "        text-align: right;\n",
       "    }\n",
       "</style>\n",
       "<table border=\"1\" class=\"dataframe\">\n",
       "  <thead>\n",
       "    <tr style=\"text-align: right;\">\n",
       "      <th></th>\n",
       "      <th>Skills</th>\n",
       "      <th>Experience (Years)</th>\n",
       "      <th>Education</th>\n",
       "      <th>Certifications</th>\n",
       "      <th>Job Role</th>\n",
       "      <th>Recruiter Decision</th>\n",
       "      <th>Salary Expectation ($)</th>\n",
       "      <th>Projects Count</th>\n",
       "      <th>AI Score (0-100)</th>\n",
       "    </tr>\n",
       "  </thead>\n",
       "  <tbody>\n",
       "    <tr>\n",
       "      <th>0</th>\n",
       "      <td>TensorFlow, NLP, Pytorch</td>\n",
       "      <td>10</td>\n",
       "      <td>B.Sc</td>\n",
       "      <td>None</td>\n",
       "      <td>AI Researcher</td>\n",
       "      <td>Hire</td>\n",
       "      <td>104895</td>\n",
       "      <td>8</td>\n",
       "      <td>100</td>\n",
       "    </tr>\n",
       "    <tr>\n",
       "      <th>1</th>\n",
       "      <td>Deep Learning, Machine Learning, Python, SQL</td>\n",
       "      <td>10</td>\n",
       "      <td>MBA</td>\n",
       "      <td>Google ML</td>\n",
       "      <td>Data Scientist</td>\n",
       "      <td>Hire</td>\n",
       "      <td>113002</td>\n",
       "      <td>1</td>\n",
       "      <td>100</td>\n",
       "    </tr>\n",
       "  </tbody>\n",
       "</table>\n",
       "</div>"
      ],
      "text/plain": [
       "                                         Skills  Experience (Years) Education  \\\n",
       "0                      TensorFlow, NLP, Pytorch                  10      B.Sc   \n",
       "1  Deep Learning, Machine Learning, Python, SQL                  10       MBA   \n",
       "\n",
       "  Certifications        Job Role Recruiter Decision  Salary Expectation ($)  \\\n",
       "0           None   AI Researcher               Hire                  104895   \n",
       "1      Google ML  Data Scientist               Hire                  113002   \n",
       "\n",
       "   Projects Count  AI Score (0-100)  \n",
       "0               8               100  \n",
       "1               1               100  "
      ]
     },
     "execution_count": 208,
     "metadata": {},
     "output_type": "execute_result"
    }
   ],
   "source": [
    "resume_data.head(2)"
   ]
  },
  {
   "cell_type": "code",
   "execution_count": 209,
   "metadata": {},
   "outputs": [
    {
     "data": {
      "text/plain": [
       "AI Score (0-100)\n",
       "100    974\n",
       "85     593\n",
       "65     585\n",
       "80     561\n",
       "27     552\n",
       "      ... \n",
       "9      458\n",
       "5      456\n",
       "42     446\n",
       "87     432\n",
       "20     417\n",
       "Name: count, Length: 101, dtype: int64"
      ]
     },
     "execution_count": 209,
     "metadata": {},
     "output_type": "execute_result"
    }
   ],
   "source": [
    "resume_data['AI Score (0-100)'].value_counts()"
   ]
  },
  {
   "cell_type": "code",
   "execution_count": 210,
   "metadata": {},
   "outputs": [],
   "source": [
    "resume_data.rename(columns={'Experience (Years)': 'ExperienceYears', 'Salary Expectation ($)': 'SalaryExpectation','AI Score (0-100)':'AIScore','Job Role':'JobRole','Recruiter Decision':'RecruiterDecision','Projects Count':'ProjectsCount'}, inplace=True)"
   ]
  },
  {
   "cell_type": "code",
   "execution_count": 211,
   "metadata": {},
   "outputs": [
    {
     "data": {
      "text/plain": [
       "Index(['Skills', 'ExperienceYears', 'Education', 'Certifications', 'JobRole',\n",
       "       'RecruiterDecision', 'SalaryExpectation', 'ProjectsCount', 'AIScore'],\n",
       "      dtype='object')"
      ]
     },
     "execution_count": 211,
     "metadata": {},
     "output_type": "execute_result"
    }
   ],
   "source": [
    "resume_data.columns"
   ]
  },
  {
   "cell_type": "code",
   "execution_count": 212,
   "metadata": {},
   "outputs": [
    {
     "data": {
      "text/html": [
       "<div>\n",
       "<style scoped>\n",
       "    .dataframe tbody tr th:only-of-type {\n",
       "        vertical-align: middle;\n",
       "    }\n",
       "\n",
       "    .dataframe tbody tr th {\n",
       "        vertical-align: top;\n",
       "    }\n",
       "\n",
       "    .dataframe thead th {\n",
       "        text-align: right;\n",
       "    }\n",
       "</style>\n",
       "<table border=\"1\" class=\"dataframe\">\n",
       "  <thead>\n",
       "    <tr style=\"text-align: right;\">\n",
       "      <th></th>\n",
       "      <th>Skills</th>\n",
       "      <th>ExperienceYears</th>\n",
       "      <th>Education</th>\n",
       "      <th>Certifications</th>\n",
       "      <th>JobRole</th>\n",
       "      <th>RecruiterDecision</th>\n",
       "      <th>SalaryExpectation</th>\n",
       "      <th>ProjectsCount</th>\n",
       "      <th>AIScore</th>\n",
       "    </tr>\n",
       "  </thead>\n",
       "  <tbody>\n",
       "    <tr>\n",
       "      <th>0</th>\n",
       "      <td>TensorFlow, NLP, Pytorch</td>\n",
       "      <td>10</td>\n",
       "      <td>B.Sc</td>\n",
       "      <td>None</td>\n",
       "      <td>AI Researcher</td>\n",
       "      <td>Hire</td>\n",
       "      <td>104895</td>\n",
       "      <td>8</td>\n",
       "      <td>100</td>\n",
       "    </tr>\n",
       "  </tbody>\n",
       "</table>\n",
       "</div>"
      ],
      "text/plain": [
       "                     Skills  ExperienceYears Education Certifications  \\\n",
       "0  TensorFlow, NLP, Pytorch               10      B.Sc           None   \n",
       "\n",
       "         JobRole RecruiterDecision  SalaryExpectation  ProjectsCount  AIScore  \n",
       "0  AI Researcher              Hire             104895              8      100  "
      ]
     },
     "execution_count": 212,
     "metadata": {},
     "output_type": "execute_result"
    }
   ],
   "source": [
    "resume_data.head(1)"
   ]
  },
  {
   "cell_type": "code",
   "execution_count": 213,
   "metadata": {},
   "outputs": [
    {
     "data": {
      "text/plain": [
       "JobRole\n",
       "AI Researcher            13059\n",
       "Cybersecurity Analyst    13002\n",
       "Data Scientist           12968\n",
       "Software Engineer        11971\n",
       "Name: count, dtype: int64"
      ]
     },
     "execution_count": 213,
     "metadata": {},
     "output_type": "execute_result"
    }
   ],
   "source": [
    "resume_data['JobRole'].value_counts()"
   ]
  },
  {
   "cell_type": "code",
   "execution_count": 214,
   "metadata": {},
   "outputs": [
    {
     "data": {
      "text/plain": [
       "51000"
      ]
     },
     "execution_count": 214,
     "metadata": {},
     "output_type": "execute_result"
    }
   ],
   "source": [
    "resume_data['Skills'].value_counts().sum()"
   ]
  },
  {
   "cell_type": "code",
   "execution_count": 215,
   "metadata": {},
   "outputs": [
    {
     "data": {
      "text/plain": [
       "'resume_data[\"Skills\"] = resume_data[\"Skills\"].str.lower().str.replace(r\"[^\\\\w\\\\s,]\", \"\", regex=True)\\nresume_data[\"Skills\"] = resume_data[\"Skills\"].apply(lambda x: x.split(\", \"))  # Convert to lists\\n'"
      ]
     },
     "execution_count": 215,
     "metadata": {},
     "output_type": "execute_result"
    }
   ],
   "source": [
    "\"\"\"resume_data[\"Skills\"] = resume_data[\"Skills\"].str.lower().str.replace(r\"[^\\w\\s,]\", \"\", regex=True)\n",
    "resume_data[\"Skills\"] = resume_data[\"Skills\"].apply(lambda x: x.split(\", \"))  # Convert to lists\n",
    "\"\"\""
   ]
  },
  {
   "cell_type": "code",
   "execution_count": 216,
   "metadata": {},
   "outputs": [
    {
     "data": {
      "text/plain": [
       "'TensorFlow, NLP, Pytorch'"
      ]
     },
     "execution_count": 216,
     "metadata": {},
     "output_type": "execute_result"
    }
   ],
   "source": [
    "resume_data.loc[0]['Skills']"
   ]
  },
  {
   "cell_type": "markdown",
   "metadata": {},
   "source": [
    "Vectorization\n"
   ]
  },
  {
   "cell_type": "code",
   "execution_count": 217,
   "metadata": {},
   "outputs": [
    {
     "data": {
      "text/plain": [
       "'# Performing label encoding on the specific columns\\nfrom sklearn.preprocessing import LabelEncoder\\n\\nle = LabelEncoder()\\n\\ndef label_encoding(column):\\n    resume_data[column] = le.fit_transform(resume_data[column])\\n    '"
      ]
     },
     "execution_count": 217,
     "metadata": {},
     "output_type": "execute_result"
    }
   ],
   "source": [
    "\"\"\"# Performing label encoding on the specific columns\n",
    "from sklearn.preprocessing import LabelEncoder\n",
    "\n",
    "le = LabelEncoder()\n",
    "\n",
    "def label_encoding(column):\n",
    "    resume_data[column] = le.fit_transform(resume_data[column])\n",
    "    \"\"\""
   ]
  },
  {
   "cell_type": "code",
   "execution_count": 218,
   "metadata": {},
   "outputs": [
    {
     "data": {
      "text/plain": [
       "\"label_encoding('JobRole')\\nlabel_encoding('Education')\\nlabel_encoding('Certifications')\\nlabel_encoding('RecruiterDecision')\""
      ]
     },
     "execution_count": 218,
     "metadata": {},
     "output_type": "execute_result"
    }
   ],
   "source": [
    "\"\"\"label_encoding('JobRole')\n",
    "label_encoding('Education')\n",
    "label_encoding('Certifications')\n",
    "label_encoding('RecruiterDecision')\"\"\""
   ]
  },
  {
   "cell_type": "code",
   "execution_count": 219,
   "metadata": {},
   "outputs": [
    {
     "data": {
      "text/html": [
       "<div>\n",
       "<style scoped>\n",
       "    .dataframe tbody tr th:only-of-type {\n",
       "        vertical-align: middle;\n",
       "    }\n",
       "\n",
       "    .dataframe tbody tr th {\n",
       "        vertical-align: top;\n",
       "    }\n",
       "\n",
       "    .dataframe thead th {\n",
       "        text-align: right;\n",
       "    }\n",
       "</style>\n",
       "<table border=\"1\" class=\"dataframe\">\n",
       "  <thead>\n",
       "    <tr style=\"text-align: right;\">\n",
       "      <th></th>\n",
       "      <th>Skills</th>\n",
       "      <th>ExperienceYears</th>\n",
       "      <th>Education</th>\n",
       "      <th>Certifications</th>\n",
       "      <th>JobRole</th>\n",
       "      <th>RecruiterDecision</th>\n",
       "      <th>SalaryExpectation</th>\n",
       "      <th>ProjectsCount</th>\n",
       "      <th>AIScore</th>\n",
       "    </tr>\n",
       "  </thead>\n",
       "  <tbody>\n",
       "    <tr>\n",
       "      <th>0</th>\n",
       "      <td>TensorFlow, NLP, Pytorch</td>\n",
       "      <td>10</td>\n",
       "      <td>B.Sc</td>\n",
       "      <td>None</td>\n",
       "      <td>AI Researcher</td>\n",
       "      <td>Hire</td>\n",
       "      <td>104895</td>\n",
       "      <td>8</td>\n",
       "      <td>100</td>\n",
       "    </tr>\n",
       "    <tr>\n",
       "      <th>1</th>\n",
       "      <td>Deep Learning, Machine Learning, Python, SQL</td>\n",
       "      <td>10</td>\n",
       "      <td>MBA</td>\n",
       "      <td>Google ML</td>\n",
       "      <td>Data Scientist</td>\n",
       "      <td>Hire</td>\n",
       "      <td>113002</td>\n",
       "      <td>1</td>\n",
       "      <td>100</td>\n",
       "    </tr>\n",
       "    <tr>\n",
       "      <th>2</th>\n",
       "      <td>Ethical Hacking, Cybersecurity, Linux</td>\n",
       "      <td>1</td>\n",
       "      <td>MBA</td>\n",
       "      <td>Deep Learning Specialization</td>\n",
       "      <td>Cybersecurity Analyst</td>\n",
       "      <td>Hire</td>\n",
       "      <td>71766</td>\n",
       "      <td>7</td>\n",
       "      <td>70</td>\n",
       "    </tr>\n",
       "    <tr>\n",
       "      <th>3</th>\n",
       "      <td>Python, Pytorch, TensorFlow</td>\n",
       "      <td>7</td>\n",
       "      <td>B.Tech</td>\n",
       "      <td>AWS Certified</td>\n",
       "      <td>AI Researcher</td>\n",
       "      <td>Hire</td>\n",
       "      <td>46848</td>\n",
       "      <td>0</td>\n",
       "      <td>95</td>\n",
       "    </tr>\n",
       "    <tr>\n",
       "      <th>4</th>\n",
       "      <td>SQL, React, Java</td>\n",
       "      <td>4</td>\n",
       "      <td>PhD</td>\n",
       "      <td>None</td>\n",
       "      <td>Software Engineer</td>\n",
       "      <td>Hire</td>\n",
       "      <td>87441</td>\n",
       "      <td>9</td>\n",
       "      <td>100</td>\n",
       "    </tr>\n",
       "    <tr>\n",
       "      <th>...</th>\n",
       "      <td>...</td>\n",
       "      <td>...</td>\n",
       "      <td>...</td>\n",
       "      <td>...</td>\n",
       "      <td>...</td>\n",
       "      <td>...</td>\n",
       "      <td>...</td>\n",
       "      <td>...</td>\n",
       "      <td>...</td>\n",
       "    </tr>\n",
       "    <tr>\n",
       "      <th>50995</th>\n",
       "      <td>NLP, TensorFlow, Python, Pytorch</td>\n",
       "      <td>27</td>\n",
       "      <td>B.Sc</td>\n",
       "      <td>AWS Certified</td>\n",
       "      <td>Cybersecurity Analyst</td>\n",
       "      <td>Hire</td>\n",
       "      <td>76516</td>\n",
       "      <td>19</td>\n",
       "      <td>76</td>\n",
       "    </tr>\n",
       "    <tr>\n",
       "      <th>50996</th>\n",
       "      <td>React, SQL, C++</td>\n",
       "      <td>17</td>\n",
       "      <td>MBA</td>\n",
       "      <td>None</td>\n",
       "      <td>Cybersecurity Analyst</td>\n",
       "      <td>Reject</td>\n",
       "      <td>41356</td>\n",
       "      <td>10</td>\n",
       "      <td>7</td>\n",
       "    </tr>\n",
       "    <tr>\n",
       "      <th>50997</th>\n",
       "      <td>Pytorch, NLP</td>\n",
       "      <td>40</td>\n",
       "      <td>B.Sc</td>\n",
       "      <td>Google ML</td>\n",
       "      <td>AI Researcher</td>\n",
       "      <td>Reject</td>\n",
       "      <td>191980</td>\n",
       "      <td>5</td>\n",
       "      <td>57</td>\n",
       "    </tr>\n",
       "    <tr>\n",
       "      <th>50998</th>\n",
       "      <td>Python, Pytorch, TensorFlow, NLP</td>\n",
       "      <td>4</td>\n",
       "      <td>MBA</td>\n",
       "      <td>None</td>\n",
       "      <td>Data Scientist</td>\n",
       "      <td>Reject</td>\n",
       "      <td>79574</td>\n",
       "      <td>3</td>\n",
       "      <td>37</td>\n",
       "    </tr>\n",
       "    <tr>\n",
       "      <th>50999</th>\n",
       "      <td>Ethical Hacking, Networking, Linux</td>\n",
       "      <td>14</td>\n",
       "      <td>B.Sc</td>\n",
       "      <td>Deep Learning Specialization</td>\n",
       "      <td>Cybersecurity Analyst</td>\n",
       "      <td>Hire</td>\n",
       "      <td>110224</td>\n",
       "      <td>10</td>\n",
       "      <td>73</td>\n",
       "    </tr>\n",
       "  </tbody>\n",
       "</table>\n",
       "<p>51000 rows × 9 columns</p>\n",
       "</div>"
      ],
      "text/plain": [
       "                                             Skills  ExperienceYears  \\\n",
       "0                          TensorFlow, NLP, Pytorch               10   \n",
       "1      Deep Learning, Machine Learning, Python, SQL               10   \n",
       "2             Ethical Hacking, Cybersecurity, Linux                1   \n",
       "3                       Python, Pytorch, TensorFlow                7   \n",
       "4                                  SQL, React, Java                4   \n",
       "...                                             ...              ...   \n",
       "50995              NLP, TensorFlow, Python, Pytorch               27   \n",
       "50996                               React, SQL, C++               17   \n",
       "50997                                  Pytorch, NLP               40   \n",
       "50998              Python, Pytorch, TensorFlow, NLP                4   \n",
       "50999            Ethical Hacking, Networking, Linux               14   \n",
       "\n",
       "      Education                Certifications                JobRole  \\\n",
       "0          B.Sc                          None          AI Researcher   \n",
       "1           MBA                     Google ML         Data Scientist   \n",
       "2           MBA  Deep Learning Specialization  Cybersecurity Analyst   \n",
       "3        B.Tech                 AWS Certified          AI Researcher   \n",
       "4           PhD                          None      Software Engineer   \n",
       "...         ...                           ...                    ...   \n",
       "50995      B.Sc                 AWS Certified  Cybersecurity Analyst   \n",
       "50996       MBA                          None  Cybersecurity Analyst   \n",
       "50997      B.Sc                     Google ML          AI Researcher   \n",
       "50998       MBA                          None         Data Scientist   \n",
       "50999      B.Sc  Deep Learning Specialization  Cybersecurity Analyst   \n",
       "\n",
       "      RecruiterDecision  SalaryExpectation  ProjectsCount  AIScore  \n",
       "0                  Hire             104895              8      100  \n",
       "1                  Hire             113002              1      100  \n",
       "2                  Hire              71766              7       70  \n",
       "3                  Hire              46848              0       95  \n",
       "4                  Hire              87441              9      100  \n",
       "...                 ...                ...            ...      ...  \n",
       "50995              Hire              76516             19       76  \n",
       "50996            Reject              41356             10        7  \n",
       "50997            Reject             191980              5       57  \n",
       "50998            Reject              79574              3       37  \n",
       "50999              Hire             110224             10       73  \n",
       "\n",
       "[51000 rows x 9 columns]"
      ]
     },
     "execution_count": 219,
     "metadata": {},
     "output_type": "execute_result"
    }
   ],
   "source": [
    "resume_data"
   ]
  },
  {
   "cell_type": "code",
   "execution_count": 220,
   "metadata": {},
   "outputs": [],
   "source": [
    "\"\"\"# Now let us perform the TF - vectorization on the skills column\n",
    "\n",
    "from sklearn.feature_extraction.text import TfidfVectorizer\n",
    "\n",
    "\n",
    "tf = TfidfVectorizer()\n",
    "\"\"\"\n",
    "\n",
    "\n",
    "resume_data['Skills'] = resume_data['Skills'].str.lower().str.replace(r\"[^\\w\\s,]\", \"\", regex=True)\n",
    "resume_data['Skills'] = resume_data['Skills'].apply(lambda x: x.split(\", \"))  # Convert to lists\n",
    "\n"
   ]
  },
  {
   "cell_type": "code",
   "execution_count": 221,
   "metadata": {},
   "outputs": [
    {
     "data": {
      "text/plain": [
       "['tensorflow', 'nlp', 'pytorch']"
      ]
     },
     "execution_count": 221,
     "metadata": {},
     "output_type": "execute_result"
    }
   ],
   "source": [
    "resume_data.iloc[0]['Skills']"
   ]
  },
  {
   "cell_type": "code",
   "execution_count": 222,
   "metadata": {},
   "outputs": [
    {
     "data": {
      "text/plain": [
       "\"# Joining the list of skills into a single string for each row\\nresume_data['Skills'] = resume_data['Skills'].apply(lambda x: ' '.join(x))\\n\""
      ]
     },
     "execution_count": 222,
     "metadata": {},
     "output_type": "execute_result"
    }
   ],
   "source": [
    "\"\"\"# Joining the list of skills into a single string for each row\n",
    "resume_data['Skills'] = resume_data['Skills'].apply(lambda x: ' '.join(x))\n",
    "\"\"\""
   ]
  },
  {
   "cell_type": "code",
   "execution_count": 223,
   "metadata": {},
   "outputs": [
    {
     "data": {
      "text/plain": [
       "0                            [tensorflow, nlp, pytorch]\n",
       "1        [deep learning, machine learning, python, sql]\n",
       "2               [ethical hacking, cybersecurity, linux]\n",
       "3                         [python, pytorch, tensorflow]\n",
       "4                                    [sql, react, java]\n",
       "                              ...                      \n",
       "50995                [nlp, tensorflow, python, pytorch]\n",
       "50996                                   [react, sql, c]\n",
       "50997                                    [pytorch, nlp]\n",
       "50998                [python, pytorch, tensorflow, nlp]\n",
       "50999              [ethical hacking, networking, linux]\n",
       "Name: Skills, Length: 51000, dtype: object"
      ]
     },
     "execution_count": 223,
     "metadata": {},
     "output_type": "execute_result"
    }
   ],
   "source": [
    "resume_data['Skills']"
   ]
  },
  {
   "cell_type": "code",
   "execution_count": 224,
   "metadata": {},
   "outputs": [],
   "source": [
    "from collections import Counter\n",
    "\n",
    "all_skills = [skill for skills in resume_data[\"Skills\"] for skill in skills]\n",
    "most_common_skills = [skill for skill, _ in Counter(all_skills).most_common()]\n",
    "\n",
    "# Function to adjust each row to have exactly 3 skills\n",
    "def adjust_skills(skills):\n",
    "    while len(skills) < 3:  # Add most common skill if less than 3\n",
    "        for skill in most_common_skills:\n",
    "            if skill not in skills:\n",
    "                skills.append(skill)\n",
    "                break  \n",
    "    if len(skills) > 3:  # Remove least common skill if more than 3\n",
    "        skills = sorted(skills, key=lambda x: all_skills.count(x), reverse=True)[:3]\n",
    "    return skills\n"
   ]
  },
  {
   "cell_type": "code",
   "execution_count": 225,
   "metadata": {},
   "outputs": [
    {
     "data": {
      "text/plain": [
       "0                     [tensorflow, nlp, pytorch]\n",
       "1                [python, sql, machine learning]\n",
       "2        [ethical hacking, cybersecurity, linux]\n",
       "3                  [python, pytorch, tensorflow]\n",
       "4                             [sql, react, java]\n",
       "                          ...                   \n",
       "50995                  [python, tensorflow, nlp]\n",
       "50996                            [react, sql, c]\n",
       "50997                     [pytorch, nlp, python]\n",
       "50998                  [python, tensorflow, nlp]\n",
       "50999       [ethical hacking, networking, linux]\n",
       "Name: Skills, Length: 51000, dtype: object"
      ]
     },
     "execution_count": 225,
     "metadata": {},
     "output_type": "execute_result"
    }
   ],
   "source": [
    "resume_data['Skills'].apply(adjust_skills)"
   ]
  },
  {
   "cell_type": "code",
   "execution_count": 226,
   "metadata": {},
   "outputs": [
    {
     "data": {
      "text/plain": [
       "{3, 4}"
      ]
     },
     "execution_count": 226,
     "metadata": {},
     "output_type": "execute_result"
    }
   ],
   "source": [
    "a = set()\n",
    "for i in resume_data['Skills']:\n",
    "    a.add(len(i))\n",
    "\n",
    "a"
   ]
  },
  {
   "cell_type": "code",
   "execution_count": 227,
   "metadata": {},
   "outputs": [
    {
     "data": {
      "text/plain": [
       "'from sklearn.feature_extraction.text import TfidfVectorizer\\n\\n# Initialize TF-IDF vectorizer\\nvectorizer = TfidfVectorizer(max_features=1000)  # Keeping top 1000 features\\n\\n# Fit and transform the \"Skills\" column\\nskills_tfidf = vectorizer.fit_transform(resume_data[\"Skills\"]).toarray()\\n\\n# Convert numerical vectors back into a single column as a comma-separated string\\nresume_data[\"Skills\"] = [\",\".join(map(str, row)) for row in skills_tfidf]\\n\\n# Display the first few rows to verify changes\\nresume_data.head()\\n'"
      ]
     },
     "execution_count": 227,
     "metadata": {},
     "output_type": "execute_result"
    }
   ],
   "source": [
    "\"\"\"from sklearn.feature_extraction.text import TfidfVectorizer\n",
    "\n",
    "# Initialize TF-IDF vectorizer\n",
    "vectorizer = TfidfVectorizer(max_features=1000)  # Keeping top 1000 features\n",
    "\n",
    "# Fit and transform the \"Skills\" column\n",
    "skills_tfidf = vectorizer.fit_transform(resume_data[\"Skills\"]).toarray()\n",
    "\n",
    "# Convert numerical vectors back into a single column as a comma-separated string\n",
    "resume_data[\"Skills\"] = [\",\".join(map(str, row)) for row in skills_tfidf]\n",
    "\n",
    "# Display the first few rows to verify changes\n",
    "resume_data.head()\n",
    "\"\"\""
   ]
  },
  {
   "cell_type": "code",
   "execution_count": 228,
   "metadata": {},
   "outputs": [
    {
     "data": {
      "text/plain": [
       "0                            [tensorflow, nlp, pytorch]\n",
       "1        [deep learning, machine learning, python, sql]\n",
       "2               [ethical hacking, cybersecurity, linux]\n",
       "3                         [python, pytorch, tensorflow]\n",
       "4                                    [sql, react, java]\n",
       "                              ...                      \n",
       "50995                [nlp, tensorflow, python, pytorch]\n",
       "50996                                   [react, sql, c]\n",
       "50997                            [pytorch, nlp, python]\n",
       "50998                [python, pytorch, tensorflow, nlp]\n",
       "50999              [ethical hacking, networking, linux]\n",
       "Name: Skills, Length: 51000, dtype: object"
      ]
     },
     "execution_count": 228,
     "metadata": {},
     "output_type": "execute_result"
    }
   ],
   "source": [
    "resume_data['Skills']"
   ]
  },
  {
   "cell_type": "code",
   "execution_count": 229,
   "metadata": {},
   "outputs": [],
   "source": [
    "# Splitting ths skills in the columns\n",
    "resume_data['Skill1'] = resume_data['Skills'].apply(lambda x: x[0])\n",
    "resume_data['Skill2'] = resume_data['Skills'].apply(lambda x: x[1])\n",
    "resume_data['Skill3'] = resume_data['Skills'].apply(lambda x: x[2])"
   ]
  },
  {
   "cell_type": "code",
   "execution_count": 230,
   "metadata": {},
   "outputs": [],
   "source": [
    "resume_data.drop(columns='Skills', axis=1, inplace=True)"
   ]
  },
  {
   "cell_type": "code",
   "execution_count": 231,
   "metadata": {},
   "outputs": [
    {
     "data": {
      "text/html": [
       "<div>\n",
       "<style scoped>\n",
       "    .dataframe tbody tr th:only-of-type {\n",
       "        vertical-align: middle;\n",
       "    }\n",
       "\n",
       "    .dataframe tbody tr th {\n",
       "        vertical-align: top;\n",
       "    }\n",
       "\n",
       "    .dataframe thead th {\n",
       "        text-align: right;\n",
       "    }\n",
       "</style>\n",
       "<table border=\"1\" class=\"dataframe\">\n",
       "  <thead>\n",
       "    <tr style=\"text-align: right;\">\n",
       "      <th></th>\n",
       "      <th>ExperienceYears</th>\n",
       "      <th>Education</th>\n",
       "      <th>Certifications</th>\n",
       "      <th>JobRole</th>\n",
       "      <th>RecruiterDecision</th>\n",
       "      <th>SalaryExpectation</th>\n",
       "      <th>ProjectsCount</th>\n",
       "      <th>AIScore</th>\n",
       "      <th>Skill1</th>\n",
       "      <th>Skill2</th>\n",
       "      <th>Skill3</th>\n",
       "    </tr>\n",
       "  </thead>\n",
       "  <tbody>\n",
       "    <tr>\n",
       "      <th>0</th>\n",
       "      <td>10</td>\n",
       "      <td>B.Sc</td>\n",
       "      <td>None</td>\n",
       "      <td>AI Researcher</td>\n",
       "      <td>Hire</td>\n",
       "      <td>104895</td>\n",
       "      <td>8</td>\n",
       "      <td>100</td>\n",
       "      <td>tensorflow</td>\n",
       "      <td>nlp</td>\n",
       "      <td>pytorch</td>\n",
       "    </tr>\n",
       "    <tr>\n",
       "      <th>1</th>\n",
       "      <td>10</td>\n",
       "      <td>MBA</td>\n",
       "      <td>Google ML</td>\n",
       "      <td>Data Scientist</td>\n",
       "      <td>Hire</td>\n",
       "      <td>113002</td>\n",
       "      <td>1</td>\n",
       "      <td>100</td>\n",
       "      <td>deep learning</td>\n",
       "      <td>machine learning</td>\n",
       "      <td>python</td>\n",
       "    </tr>\n",
       "    <tr>\n",
       "      <th>2</th>\n",
       "      <td>1</td>\n",
       "      <td>MBA</td>\n",
       "      <td>Deep Learning Specialization</td>\n",
       "      <td>Cybersecurity Analyst</td>\n",
       "      <td>Hire</td>\n",
       "      <td>71766</td>\n",
       "      <td>7</td>\n",
       "      <td>70</td>\n",
       "      <td>ethical hacking</td>\n",
       "      <td>cybersecurity</td>\n",
       "      <td>linux</td>\n",
       "    </tr>\n",
       "    <tr>\n",
       "      <th>3</th>\n",
       "      <td>7</td>\n",
       "      <td>B.Tech</td>\n",
       "      <td>AWS Certified</td>\n",
       "      <td>AI Researcher</td>\n",
       "      <td>Hire</td>\n",
       "      <td>46848</td>\n",
       "      <td>0</td>\n",
       "      <td>95</td>\n",
       "      <td>python</td>\n",
       "      <td>pytorch</td>\n",
       "      <td>tensorflow</td>\n",
       "    </tr>\n",
       "    <tr>\n",
       "      <th>4</th>\n",
       "      <td>4</td>\n",
       "      <td>PhD</td>\n",
       "      <td>None</td>\n",
       "      <td>Software Engineer</td>\n",
       "      <td>Hire</td>\n",
       "      <td>87441</td>\n",
       "      <td>9</td>\n",
       "      <td>100</td>\n",
       "      <td>sql</td>\n",
       "      <td>react</td>\n",
       "      <td>java</td>\n",
       "    </tr>\n",
       "  </tbody>\n",
       "</table>\n",
       "</div>"
      ],
      "text/plain": [
       "   ExperienceYears Education                Certifications  \\\n",
       "0               10      B.Sc                          None   \n",
       "1               10       MBA                     Google ML   \n",
       "2                1       MBA  Deep Learning Specialization   \n",
       "3                7    B.Tech                 AWS Certified   \n",
       "4                4       PhD                          None   \n",
       "\n",
       "                 JobRole RecruiterDecision  SalaryExpectation  ProjectsCount  \\\n",
       "0          AI Researcher              Hire             104895              8   \n",
       "1         Data Scientist              Hire             113002              1   \n",
       "2  Cybersecurity Analyst              Hire              71766              7   \n",
       "3          AI Researcher              Hire              46848              0   \n",
       "4      Software Engineer              Hire              87441              9   \n",
       "\n",
       "   AIScore           Skill1            Skill2      Skill3  \n",
       "0      100       tensorflow               nlp     pytorch  \n",
       "1      100    deep learning  machine learning      python  \n",
       "2       70  ethical hacking     cybersecurity       linux  \n",
       "3       95           python           pytorch  tensorflow  \n",
       "4      100              sql             react        java  "
      ]
     },
     "execution_count": 231,
     "metadata": {},
     "output_type": "execute_result"
    }
   ],
   "source": [
    "resume_data.head()"
   ]
  },
  {
   "cell_type": "code",
   "execution_count": 232,
   "metadata": {},
   "outputs": [],
   "source": [
    "# Now let us perform Scaling on the data\n",
    "from sklearn.preprocessing import StandardScaler\n",
    "\n",
    "scaler = StandardScaler()\n",
    "\n",
    "def scaling(column):\n",
    "    resume_data[column] = scaler.fit_transform(resume_data[[column]])"
   ]
  },
  {
   "cell_type": "code",
   "execution_count": 233,
   "metadata": {},
   "outputs": [
    {
     "data": {
      "text/plain": [
       "\"scaling('ExperienceYears')\\nscaling('SalaryExpectation')\\nscaling('ProjectsCount')\\nscaling('AIScore')\\nscaling('Education')\\nscaling('Certifications')\\nscaling('JobRole')\\n\""
      ]
     },
     "execution_count": 233,
     "metadata": {},
     "output_type": "execute_result"
    }
   ],
   "source": [
    "\"\"\"scaling('ExperienceYears')\n",
    "scaling('SalaryExpectation')\n",
    "scaling('ProjectsCount')\n",
    "scaling('AIScore')\n",
    "scaling('Education')\n",
    "scaling('Certifications')\n",
    "scaling('JobRole')\n",
    "\"\"\""
   ]
  },
  {
   "cell_type": "code",
   "execution_count": 234,
   "metadata": {},
   "outputs": [
    {
     "data": {
      "text/plain": [
       "\"resume_data['Skills']\""
      ]
     },
     "execution_count": 234,
     "metadata": {},
     "output_type": "execute_result"
    }
   ],
   "source": [
    "\"resume_data['Skills']\""
   ]
  },
  {
   "cell_type": "code",
   "execution_count": 235,
   "metadata": {},
   "outputs": [
    {
     "data": {
      "text/plain": [
       "Skill3\n",
       "python              17006\n",
       "sql                  7732\n",
       "ethical hacking      3397\n",
       "linux                2475\n",
       "nlp                  2409\n",
       "machine learning     2267\n",
       "java                 2221\n",
       "pytorch              2051\n",
       "deep learning        2041\n",
       "tensorflow           2020\n",
       "react                1988\n",
       "c                    1930\n",
       "networking           1845\n",
       "cybersecurity        1618\n",
       "Name: count, dtype: int64"
      ]
     },
     "execution_count": 235,
     "metadata": {},
     "output_type": "execute_result"
    }
   ],
   "source": [
    "resume_data['Skill3'].value_counts()"
   ]
  },
  {
   "cell_type": "code",
   "execution_count": 236,
   "metadata": {},
   "outputs": [
    {
     "data": {
      "text/plain": [
       "\"\\n# Function to perform get_dummies and return transformed columns\\ndef get_dummies(column):\\n    return pd.get_dummies(resume_data[column], prefix=column)\\n\\n# Apply get_dummies and add the results to the original DataFrame\\nresume_data = pd.concat([\\n    resume_data,\\n    get_dummies('JobRole'),\\n    get_dummies('Education'),\\n    get_dummies('Certifications'),\\n], axis=1)\\n\\n# Optionally drop the original columns if they are no longer needed\\nresume_data.drop(columns=['JobRole', 'Education', 'Certifications'], inplace=True)\""
      ]
     },
     "execution_count": 236,
     "metadata": {},
     "output_type": "execute_result"
    }
   ],
   "source": [
    "\"\"\"\n",
    "# Function to perform get_dummies and return transformed columns\n",
    "def get_dummies(column):\n",
    "    return pd.get_dummies(resume_data[column], prefix=column)\n",
    "\n",
    "# Apply get_dummies and add the results to the original DataFrame\n",
    "resume_data = pd.concat([\n",
    "    resume_data,\n",
    "    get_dummies('JobRole'),\n",
    "    get_dummies('Education'),\n",
    "    get_dummies('Certifications'),\n",
    "], axis=1)\n",
    "\n",
    "# Optionally drop the original columns if they are no longer needed\n",
    "resume_data.drop(columns=['JobRole', 'Education', 'Certifications'], inplace=True)\"\"\""
   ]
  },
  {
   "cell_type": "code",
   "execution_count": 237,
   "metadata": {},
   "outputs": [
    {
     "data": {
      "text/html": [
       "<div>\n",
       "<style scoped>\n",
       "    .dataframe tbody tr th:only-of-type {\n",
       "        vertical-align: middle;\n",
       "    }\n",
       "\n",
       "    .dataframe tbody tr th {\n",
       "        vertical-align: top;\n",
       "    }\n",
       "\n",
       "    .dataframe thead th {\n",
       "        text-align: right;\n",
       "    }\n",
       "</style>\n",
       "<table border=\"1\" class=\"dataframe\">\n",
       "  <thead>\n",
       "    <tr style=\"text-align: right;\">\n",
       "      <th></th>\n",
       "      <th>ExperienceYears</th>\n",
       "      <th>Education</th>\n",
       "      <th>Certifications</th>\n",
       "      <th>JobRole</th>\n",
       "      <th>RecruiterDecision</th>\n",
       "      <th>SalaryExpectation</th>\n",
       "      <th>ProjectsCount</th>\n",
       "      <th>AIScore</th>\n",
       "      <th>Skill1</th>\n",
       "      <th>Skill2</th>\n",
       "      <th>Skill3</th>\n",
       "    </tr>\n",
       "  </thead>\n",
       "  <tbody>\n",
       "    <tr>\n",
       "      <th>0</th>\n",
       "      <td>10</td>\n",
       "      <td>B.Sc</td>\n",
       "      <td>None</td>\n",
       "      <td>AI Researcher</td>\n",
       "      <td>Hire</td>\n",
       "      <td>104895</td>\n",
       "      <td>8</td>\n",
       "      <td>100</td>\n",
       "      <td>tensorflow</td>\n",
       "      <td>nlp</td>\n",
       "      <td>pytorch</td>\n",
       "    </tr>\n",
       "    <tr>\n",
       "      <th>1</th>\n",
       "      <td>10</td>\n",
       "      <td>MBA</td>\n",
       "      <td>Google ML</td>\n",
       "      <td>Data Scientist</td>\n",
       "      <td>Hire</td>\n",
       "      <td>113002</td>\n",
       "      <td>1</td>\n",
       "      <td>100</td>\n",
       "      <td>deep learning</td>\n",
       "      <td>machine learning</td>\n",
       "      <td>python</td>\n",
       "    </tr>\n",
       "    <tr>\n",
       "      <th>2</th>\n",
       "      <td>1</td>\n",
       "      <td>MBA</td>\n",
       "      <td>Deep Learning Specialization</td>\n",
       "      <td>Cybersecurity Analyst</td>\n",
       "      <td>Hire</td>\n",
       "      <td>71766</td>\n",
       "      <td>7</td>\n",
       "      <td>70</td>\n",
       "      <td>ethical hacking</td>\n",
       "      <td>cybersecurity</td>\n",
       "      <td>linux</td>\n",
       "    </tr>\n",
       "    <tr>\n",
       "      <th>3</th>\n",
       "      <td>7</td>\n",
       "      <td>B.Tech</td>\n",
       "      <td>AWS Certified</td>\n",
       "      <td>AI Researcher</td>\n",
       "      <td>Hire</td>\n",
       "      <td>46848</td>\n",
       "      <td>0</td>\n",
       "      <td>95</td>\n",
       "      <td>python</td>\n",
       "      <td>pytorch</td>\n",
       "      <td>tensorflow</td>\n",
       "    </tr>\n",
       "    <tr>\n",
       "      <th>4</th>\n",
       "      <td>4</td>\n",
       "      <td>PhD</td>\n",
       "      <td>None</td>\n",
       "      <td>Software Engineer</td>\n",
       "      <td>Hire</td>\n",
       "      <td>87441</td>\n",
       "      <td>9</td>\n",
       "      <td>100</td>\n",
       "      <td>sql</td>\n",
       "      <td>react</td>\n",
       "      <td>java</td>\n",
       "    </tr>\n",
       "    <tr>\n",
       "      <th>...</th>\n",
       "      <td>...</td>\n",
       "      <td>...</td>\n",
       "      <td>...</td>\n",
       "      <td>...</td>\n",
       "      <td>...</td>\n",
       "      <td>...</td>\n",
       "      <td>...</td>\n",
       "      <td>...</td>\n",
       "      <td>...</td>\n",
       "      <td>...</td>\n",
       "      <td>...</td>\n",
       "    </tr>\n",
       "    <tr>\n",
       "      <th>50995</th>\n",
       "      <td>27</td>\n",
       "      <td>B.Sc</td>\n",
       "      <td>AWS Certified</td>\n",
       "      <td>Cybersecurity Analyst</td>\n",
       "      <td>Hire</td>\n",
       "      <td>76516</td>\n",
       "      <td>19</td>\n",
       "      <td>76</td>\n",
       "      <td>nlp</td>\n",
       "      <td>tensorflow</td>\n",
       "      <td>python</td>\n",
       "    </tr>\n",
       "    <tr>\n",
       "      <th>50996</th>\n",
       "      <td>17</td>\n",
       "      <td>MBA</td>\n",
       "      <td>None</td>\n",
       "      <td>Cybersecurity Analyst</td>\n",
       "      <td>Reject</td>\n",
       "      <td>41356</td>\n",
       "      <td>10</td>\n",
       "      <td>7</td>\n",
       "      <td>react</td>\n",
       "      <td>sql</td>\n",
       "      <td>c</td>\n",
       "    </tr>\n",
       "    <tr>\n",
       "      <th>50997</th>\n",
       "      <td>40</td>\n",
       "      <td>B.Sc</td>\n",
       "      <td>Google ML</td>\n",
       "      <td>AI Researcher</td>\n",
       "      <td>Reject</td>\n",
       "      <td>191980</td>\n",
       "      <td>5</td>\n",
       "      <td>57</td>\n",
       "      <td>pytorch</td>\n",
       "      <td>nlp</td>\n",
       "      <td>python</td>\n",
       "    </tr>\n",
       "    <tr>\n",
       "      <th>50998</th>\n",
       "      <td>4</td>\n",
       "      <td>MBA</td>\n",
       "      <td>None</td>\n",
       "      <td>Data Scientist</td>\n",
       "      <td>Reject</td>\n",
       "      <td>79574</td>\n",
       "      <td>3</td>\n",
       "      <td>37</td>\n",
       "      <td>python</td>\n",
       "      <td>pytorch</td>\n",
       "      <td>tensorflow</td>\n",
       "    </tr>\n",
       "    <tr>\n",
       "      <th>50999</th>\n",
       "      <td>14</td>\n",
       "      <td>B.Sc</td>\n",
       "      <td>Deep Learning Specialization</td>\n",
       "      <td>Cybersecurity Analyst</td>\n",
       "      <td>Hire</td>\n",
       "      <td>110224</td>\n",
       "      <td>10</td>\n",
       "      <td>73</td>\n",
       "      <td>ethical hacking</td>\n",
       "      <td>networking</td>\n",
       "      <td>linux</td>\n",
       "    </tr>\n",
       "  </tbody>\n",
       "</table>\n",
       "<p>51000 rows × 11 columns</p>\n",
       "</div>"
      ],
      "text/plain": [
       "       ExperienceYears Education                Certifications  \\\n",
       "0                   10      B.Sc                          None   \n",
       "1                   10       MBA                     Google ML   \n",
       "2                    1       MBA  Deep Learning Specialization   \n",
       "3                    7    B.Tech                 AWS Certified   \n",
       "4                    4       PhD                          None   \n",
       "...                ...       ...                           ...   \n",
       "50995               27      B.Sc                 AWS Certified   \n",
       "50996               17       MBA                          None   \n",
       "50997               40      B.Sc                     Google ML   \n",
       "50998                4       MBA                          None   \n",
       "50999               14      B.Sc  Deep Learning Specialization   \n",
       "\n",
       "                     JobRole RecruiterDecision  SalaryExpectation  \\\n",
       "0              AI Researcher              Hire             104895   \n",
       "1             Data Scientist              Hire             113002   \n",
       "2      Cybersecurity Analyst              Hire              71766   \n",
       "3              AI Researcher              Hire              46848   \n",
       "4          Software Engineer              Hire              87441   \n",
       "...                      ...               ...                ...   \n",
       "50995  Cybersecurity Analyst              Hire              76516   \n",
       "50996  Cybersecurity Analyst            Reject              41356   \n",
       "50997          AI Researcher            Reject             191980   \n",
       "50998         Data Scientist            Reject              79574   \n",
       "50999  Cybersecurity Analyst              Hire             110224   \n",
       "\n",
       "       ProjectsCount  AIScore           Skill1            Skill2      Skill3  \n",
       "0                  8      100       tensorflow               nlp     pytorch  \n",
       "1                  1      100    deep learning  machine learning      python  \n",
       "2                  7       70  ethical hacking     cybersecurity       linux  \n",
       "3                  0       95           python           pytorch  tensorflow  \n",
       "4                  9      100              sql             react        java  \n",
       "...              ...      ...              ...               ...         ...  \n",
       "50995             19       76              nlp        tensorflow      python  \n",
       "50996             10        7            react               sql           c  \n",
       "50997              5       57          pytorch               nlp      python  \n",
       "50998              3       37           python           pytorch  tensorflow  \n",
       "50999             10       73  ethical hacking        networking       linux  \n",
       "\n",
       "[51000 rows x 11 columns]"
      ]
     },
     "execution_count": 237,
     "metadata": {},
     "output_type": "execute_result"
    }
   ],
   "source": [
    "resume_data"
   ]
  },
  {
   "cell_type": "markdown",
   "metadata": {},
   "source": [
    "Splitting X and Y"
   ]
  },
  {
   "cell_type": "code",
   "execution_count": 238,
   "metadata": {},
   "outputs": [],
   "source": [
    "X = resume_data.drop('RecruiterDecision', axis=1)\n",
    "Y = resume_data['RecruiterDecision']"
   ]
  },
  {
   "cell_type": "markdown",
   "metadata": {},
   "source": [
    "Initializing the train test split"
   ]
  },
  {
   "cell_type": "code",
   "execution_count": 239,
   "metadata": {},
   "outputs": [],
   "source": [
    "from sklearn.model_selection import train_test_split\n",
    "\n",
    "X_train, X_test, Y_train, Y_test = train_test_split(X, Y, test_size=0.2, random_state=42)"
   ]
  },
  {
   "cell_type": "code",
   "execution_count": 240,
   "metadata": {},
   "outputs": [
    {
     "name": "stdout",
     "output_type": "stream",
     "text": [
      "(40800, 10) (10200, 10) (51000, 10)\n"
     ]
    }
   ],
   "source": [
    "print(X_train.shape, X_test.shape, X.shape)"
   ]
  },
  {
   "cell_type": "markdown",
   "metadata": {},
   "source": [
    "Model Selection"
   ]
  },
  {
   "cell_type": "code",
   "execution_count": 241,
   "metadata": {},
   "outputs": [
    {
     "name": "stdout",
     "output_type": "stream",
     "text": [
      "0:\tlearn: 0.6500935\ttotal: 51.1ms\tremaining: 12.7s\n",
      "100:\tlearn: 0.4776115\ttotal: 3.55s\tremaining: 5.23s\n",
      "200:\tlearn: 0.4678695\ttotal: 8.26s\tremaining: 2.01s\n",
      "249:\tlearn: 0.4633622\ttotal: 10.7s\tremaining: 0us\n"
     ]
    },
    {
     "data": {
      "text/plain": [
       "<catboost.core.CatBoostClassifier at 0x7e3840f34810>"
      ]
     },
     "execution_count": 241,
     "metadata": {},
     "output_type": "execute_result"
    }
   ],
   "source": [
    "from catboost import CatBoostClassifier\n",
    "cat_features = ['Skill1','Skill2','Skill3','Education','Certifications','JobRole'] \n",
    "\n",
    "# Initialize CatBoostClassifier\n",
    "catboost_model = CatBoostClassifier(iterations=250, learning_rate=0.1, depth=6, loss_function='Logloss', verbose=100,cat_features=cat_features)\n",
    "\n",
    "# Fit the model\n",
    "catboost_model.fit(X_train, Y_train)"
   ]
  },
  {
   "cell_type": "code",
   "execution_count": 242,
   "metadata": {},
   "outputs": [
    {
     "name": "stdout",
     "output_type": "stream",
     "text": [
      "0.808921568627451\n"
     ]
    }
   ],
   "source": [
    "from sklearn.metrics import accuracy_score\n",
    "\n",
    "print(accuracy_score(Y_test, catboost_model.predict(X_test)))"
   ]
  },
  {
   "cell_type": "markdown",
   "metadata": {},
   "source": [
    "Testing the model "
   ]
  },
  {
   "cell_type": "code",
   "execution_count": 252,
   "metadata": {},
   "outputs": [],
   "source": [
    "test_data = pd.read_csv('Datasets/test_data_v3.csv')"
   ]
  },
  {
   "cell_type": "code",
   "execution_count": 254,
   "metadata": {},
   "outputs": [],
   "source": [
    "test_data.drop(columns='RecruiterDecision',inplace=True)"
   ]
  },
  {
   "cell_type": "code",
   "execution_count": 255,
   "metadata": {},
   "outputs": [
    {
     "data": {
      "text/plain": [
       "ExperienceYears       0\n",
       "Education             0\n",
       "Certifications       26\n",
       "JobRole               0\n",
       "SalaryExpectation     0\n",
       "ProjectsCount         0\n",
       "AIScore               0\n",
       "Skill1                0\n",
       "Skill2                0\n",
       "Skill3                0\n",
       "dtype: int64"
      ]
     },
     "execution_count": 255,
     "metadata": {},
     "output_type": "execute_result"
    }
   ],
   "source": [
    "test_data.isnull().sum()    "
   ]
  },
  {
   "cell_type": "code",
   "execution_count": 256,
   "metadata": {},
   "outputs": [
    {
     "name": "stderr",
     "output_type": "stream",
     "text": [
      "/tmp/ipykernel_37951/3844973403.py:1: FutureWarning: A value is trying to be set on a copy of a DataFrame or Series through chained assignment using an inplace method.\n",
      "The behavior will change in pandas 3.0. This inplace method will never work because the intermediate object on which we are setting values always behaves as a copy.\n",
      "\n",
      "For example, when doing 'df[col].method(value, inplace=True)', try using 'df.method({col: value}, inplace=True)' or df[col] = df[col].method(value) instead, to perform the operation inplace on the original object.\n",
      "\n",
      "\n",
      "  test_data['Certifications'].fillna('None', inplace=True)\n"
     ]
    }
   ],
   "source": [
    "test_data['Certifications'].fillna('None', inplace=True)"
   ]
  },
  {
   "cell_type": "code",
   "execution_count": 258,
   "metadata": {},
   "outputs": [],
   "source": [
    "test_predictions = catboost_model.predict(test_data)"
   ]
  },
  {
   "cell_type": "code",
   "execution_count": 260,
   "metadata": {},
   "outputs": [],
   "source": [
    "sample = pd.read_csv('Datasets/test_data_v3.csv')"
   ]
  },
  {
   "cell_type": "code",
   "execution_count": 261,
   "metadata": {},
   "outputs": [
    {
     "name": "stdout",
     "output_type": "stream",
     "text": [
      "Accuracy: 51.00%\n"
     ]
    }
   ],
   "source": [
    "from sklearn.metrics import accuracy_score\n",
    "\n",
    "# Compare the predictions with the actual values\n",
    "accuracy = accuracy_score(sample['RecruiterDecision'], test_predictions)\n",
    "\n",
    "print(f\"Accuracy: {accuracy * 100:.2f}%\")"
   ]
  },
  {
   "cell_type": "code",
   "execution_count": 262,
   "metadata": {},
   "outputs": [],
   "source": [
    "import pickle \n",
    "\n",
    "# Save the model\n",
    "with open('catboost_model.pkl', 'wb') as file:\n",
    "    pickle.dump(catboost_model, file)"
   ]
  }
 ],
 "metadata": {
  "kernelspec": {
   "display_name": ".venv",
   "language": "python",
   "name": "python3"
  },
  "language_info": {
   "codemirror_mode": {
    "name": "ipython",
    "version": 3
   },
   "file_extension": ".py",
   "mimetype": "text/x-python",
   "name": "python",
   "nbconvert_exporter": "python",
   "pygments_lexer": "ipython3",
   "version": "3.11.11"
  }
 },
 "nbformat": 4,
 "nbformat_minor": 2
}
